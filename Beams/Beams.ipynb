{
  "nbformat": 4,
  "nbformat_minor": 0,
  "metadata": {
    "colab": {
      "name": "Beams",
      "provenance": [],
      "collapsed_sections": []
    },
    "kernelspec": {
      "name": "python3",
      "display_name": "Python 3"
    }
  },
  "cells": [
    {
      "cell_type": "markdown",
      "metadata": {
        "id": "ZDBmPYyklU1T",
        "colab_type": "text"
      },
      "source": [
        "##Prediction of the Strength of Reinforced Concrete Beams"
      ]
    },
    {
      "cell_type": "code",
      "metadata": {
        "id": "pvmqHzn_lZxJ",
        "colab_type": "code",
        "colab": {}
      },
      "source": [
        "# Importing the libraries\n",
        "import numpy as np\n",
        "import pandas as pd\n",
        "import matplotlib.pyplot as plt\n",
        "import seaborn as sns\n",
        "from sklearn.linear_model import Ridge"
      ],
      "execution_count": 2,
      "outputs": []
    },
    {
      "cell_type": "code",
      "metadata": {
        "id": "DqS8iQqPtj04",
        "colab_type": "code",
        "colab": {}
      },
      "source": [
        "# Defining custom parameters\n",
        "root_dir = '###'"
      ],
      "execution_count": 3,
      "outputs": []
    },
    {
      "cell_type": "code",
      "metadata": {
        "id": "g7rOndfelm3k",
        "colab_type": "code",
        "colab": {}
      },
      "source": [
        "# Importing the dataset\n",
        "df_train = pd.read_excel(f'{root_dir}/BeamLoad.xlsx', sheet_name = 'Train')\n",
        "df_test = pd.read_excel(f'{root_dir}/BeamLoad.xlsx', sheet_name = 'Test')\n",
        "df_validate = pd.read_excel(f'{root_dir}/BeamLoad.xlsx', sheet_name = 'Validate')"
      ],
      "execution_count": 21,
      "outputs": []
    },
    {
      "cell_type": "code",
      "metadata": {
        "id": "ojqw_G0hyxRm",
        "colab_type": "code",
        "colab": {
          "base_uri": "https://localhost:8080/",
          "height": 613
        },
        "outputId": "80eb9709-708d-4e62-96c3-58f246275dd8"
      },
      "source": [
        "# Visualizing the correlation\n",
        "fig, ax = plt.subplots(figsize = (12, 10))\n",
        "sns.heatmap(data = df_train.corr(), cmap = 'Blues')"
      ],
      "execution_count": 22,
      "outputs": [
        {
          "output_type": "execute_result",
          "data": {
            "text/plain": [
              "<matplotlib.axes._subplots.AxesSubplot at 0x7fa1ae621d68>"
            ]
          },
          "metadata": {
            "tags": []
          },
          "execution_count": 22
        },
        {
          "output_type": "display_data",
          "data": {
            "image/png": "[encoded data removed]",
            "text/plain": [
              "<Figure size 864x720 with 2 Axes>"
            ]
          },
          "metadata": {
            "tags": [],
            "needs_background": "light"
          }
        }
      ]
    },
    {
      "cell_type": "code",
      "metadata": {
        "id": "EEq1d2oZzmtU",
        "colab_type": "code",
        "colab": {}
      },
      "source": [
        "# Defining the features and targets\n",
        "X_train = df_train.iloc[: , :-1].values\n",
        "y_train = df_train.iloc[: , -1].values\n",
        "X_test = df_test.iloc[: , :-1].values\n",
        "y_test = df_test.iloc[: , -1].values\n",
        "X_validate = df_validate.iloc[: , :-1].values\n",
        "y_validate = df_validate.iloc[: , -1].values"
      ],
      "execution_count": 23,
      "outputs": []
    },
    {
      "cell_type": "code",
      "metadata": {
        "id": "6k4_nGhx0Apy",
        "colab_type": "code",
        "colab": {
          "base_uri": "https://localhost:8080/",
          "height": 366
        },
        "outputId": "b509a54c-e883-405b-8c89-de23a61b2d94"
      },
      "source": [
        "reg = Ridge(alpha = 2.410, random_state = 50)\n",
        "reg.fit(X_train, y_train)\n",
        "trainscore = reg.score(X_train, y_train)\n",
        "testscore = reg.score(X_test, y_test)\n",
        "validatescore = reg.score(X_validate, y_validate)\n",
        "print('Test Set Results:\\nActual vs Predicted')\n",
        "for i in range(len(X_test)):\n",
        "    print(f'{y_test[i]}\\t{reg.predict(X_test)[i]}')\n",
        "print('\\nValidation Set Results:\\nActual vs Predicted')\n",
        "for i in range(len(X_validate)):\n",
        "    print(f'{y_validate[i]}\\t{reg.predict(X_validate)[i]}')\n",
        "print('\\nModel Evaluation:')\n",
        "print(f'Training Accuracy : {trainscore}\\nTest Accuracy : {testscore}\\nValidation Accuracy : {validatescore}')"
      ],
      "execution_count": 30,
      "outputs": [
        {
          "output_type": "stream",
          "text": [
            "Test Set Results:\n",
            "Actual vs Predicted\n",
            "229.26\t230.33077861236052\n",
            "210.08\t213.220865321902\n",
            "193.54\t203.84979476340516\n",
            "228.92\t231.83528505394167\n",
            "208.36\t215.2895616790761\n",
            "192.87\t206.29461773097455\n",
            "\n",
            "Validation Set Results:\n",
            "Actual vs Predicted\n",
            "159.56\t160.32772412901318\n",
            "146.52\t143.21781083855456\n",
            "136.92\t133.6179280303012\n",
            "\n",
            "Model Evaluation:\n",
            "Training Accuracy : 0.8828904470906505\n",
            "Test Accuracy : 0.7264923369841649\n",
            "Validation Accuracy : 0.9132742690126813\n"
          ],
          "name": "stdout"
        }
      ]
    }
  ]
}