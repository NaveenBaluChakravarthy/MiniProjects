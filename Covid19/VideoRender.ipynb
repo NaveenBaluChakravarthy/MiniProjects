{
  "nbformat": 4,
  "nbformat_minor": 0,
  "metadata": {
    "colab": {
      "name": "VideoRender.ipynb",
      "provenance": [],
      "collapsed_sections": []
    },
    "kernelspec": {
      "name": "python3",
      "display_name": "Python 3"
    }
  },
  "cells": [
    {
      "cell_type": "markdown",
      "metadata": {
        "id": "uVZpM3T3QBlY",
        "colab_type": "text"
      },
      "source": [
        "## Render the video from plots"
      ]
    },
    {
      "cell_type": "code",
      "metadata": {
        "id": "vtNpCb0EQAEm",
        "colab_type": "code",
        "colab": {}
      },
      "source": [
        "# Importing the libraries\n",
        "import cv2\n",
        "import glob"
      ],
      "execution_count": 4,
      "outputs": []
    },
    {
      "cell_type": "code",
      "metadata": {
        "id": "XLQ0RPtuQa74",
        "colab_type": "code",
        "colab": {}
      },
      "source": [
        "# Initializing the parameters\n",
        "months = ['2020.03']\n",
        "frame_rate = 3"
      ],
      "execution_count": 6,
      "outputs": []
    },
    {
      "cell_type": "code",
      "metadata": {
        "id": "3n8CLm6eP2YV",
        "colab_type": "code",
        "colab": {
          "base_uri": "https://localhost:8080/",
          "height": 35
        },
        "outputId": "6079f0fc-08ae-45a4-9b48-dbeea547a990"
      },
      "source": [
        "img_array = []\n",
        "for month in months:\n",
        "  for filename in glob.glob(f'/content/drive/My Drive/Covid/{month}/*.jpg'):\n",
        "      img = cv2.imread(filename)\n",
        "      height, width, layers = img.shape\n",
        "      frame_size = (width, height)\n",
        "      img_array.append(img)\n",
        "  print(f'Processed the images of {month}')\n",
        "out = cv2.VideoWriter('/content/drive/My Drive/Covid/Covid.mp4', cv2.VideoWriter_fourcc(*'MP4V'), frame_rate, frame_size)\n",
        " \n",
        "for i in range(len(img_array)):\n",
        "    out.write(img_array[i])\n",
        "out.release()"
      ],
      "execution_count": 8,
      "outputs": [
        {
          "output_type": "stream",
          "text": [
            "Processed the images of 2020.03\n"
          ],
          "name": "stdout"
        }
      ]
    }
  ]
}