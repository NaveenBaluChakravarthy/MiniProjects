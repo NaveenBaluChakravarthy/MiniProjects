{
  "nbformat": 4,
  "nbformat_minor": 0,
  "metadata": {
    "colab": {
      "provenance": []
    },
    "kernelspec": {
      "name": "python3",
      "display_name": "Python 3"
    },
    "language_info": {
      "name": "python"
    }
  },
  "cells": [
    {
      "cell_type": "code",
      "execution_count": 27,
      "metadata": {
        "id": "MOw7PhNrPOtH"
      },
      "outputs": [],
      "source": [
        "class NumberNameGenerator():\n",
        "\n",
        "    def __init__(self):\n",
        "        self.order = {0: '', 1: 'Thousand', 2: 'Million', 3: 'Billion', 4: 'Trillion', 5: 'Quadrillion'}\n",
        "        self.names = {1: 'One', 2: 'Two', 3: 'Three', 4: 'Four', 5: 'Five', 6: 'Six', 7: 'Seven', 8: 'Eight', 9: 'Nine', 10: 'Ten',\n",
        "                     11: 'Eleven', 12: 'Twelve', 13: 'Thirteen', 14: 'Fourteen', 15: 'Fifteen', 16: 'Sixteen', 17: 'Seventeen',\n",
        "                     18: 'Eighteen', 19: 'Nineteen', 20: 'Twenty', 30: 'Thirty', 40: 'Forty', 50: 'Fifty', 60: 'Sixty', 70: 'Seventy',\n",
        "                     80: 'Eighty', 90: 'Ninety', 100: 'Hundred'}\n",
        "\n",
        "    def get_name(self, n):\n",
        "\n",
        "        numbername = self.names.get(n, '')\n",
        "        if n == 0:\n",
        "            numbername = 'Zero'\n",
        "\n",
        "        if not numbername:\n",
        "            chunks = []\n",
        "            while True:\n",
        "                n, r = divmod(n, 1000)\n",
        "                chunks.append(r)\n",
        "                if n == 0:\n",
        "                    break\n",
        "            chunks = chunks[::-1]\n",
        "            orders = [i for i in range(len(chunks))][::-1]\n",
        "\n",
        "            for order_, chunk_ in zip(orders, chunks):\n",
        "                hundreds, tens_and_ones = divmod(chunk_, 100)\n",
        "                if hundreds > 0:\n",
        "                    numbername += f' {self.names.get(hundreds)} Hundred'\n",
        "                if tens_and_ones > 0:\n",
        "                    if hundreds > 0:\n",
        "                        numbername += ' and'\n",
        "                    if tens_and_ones in self.names.keys():\n",
        "                        numbername += f' {self.names.get(tens_and_ones)}'\n",
        "                    else:\n",
        "                        tens, ones = divmod(tens_and_ones, 10)\n",
        "                        tens *= 10\n",
        "                        numbername += f' {self.names.get(tens)} {self.names.get(ones)}'\n",
        "\n",
        "                numbername += f' {self.order.get(order_)}'\n",
        "\n",
        "        return numbername[1:]\n"
      ]
    },
    {
      "cell_type": "code",
      "source": [
        "import random\n",
        "numgen = NumberNameGenerator()\n",
        "\n",
        "for _ in range(10):\n",
        "    num = random.randint(0, 10e5)\n",
        "    print(f'{num:019,} | {numgen.get_name(num)}')"
      ],
      "metadata": {
        "colab": {
          "base_uri": "https://localhost:8080/"
        },
        "id": "sqkIcXkjVrnY",
        "outputId": "b8142d58-1758-4ad8-a426-ccb8e0b31fcd"
      },
      "execution_count": 30,
      "outputs": [
        {
          "output_type": "stream",
          "name": "stdout",
          "text": [
            "000,000,000,000,521 | Five Hundred and Twenty One \n",
            "000,000,000,623,788 | Six Hundred and Twenty Three Thousand Seven Hundred and Eighty Eight \n",
            "000,000,000,435,969 | Four Hundred and Thirty Five Thousand Nine Hundred and Sixty Nine \n",
            "000,000,000,811,471 | Eight Hundred and Eleven Thousand Four Hundred and Seventy One \n",
            "000,000,000,346,245 | Three Hundred and Forty Six Thousand Two Hundred and Forty Five \n",
            "000,000,000,630,170 | Six Hundred and Thirty Thousand One Hundred and Seventy \n",
            "000,000,000,591,920 | Five Hundred and Ninety One Thousand Nine Hundred and Twenty \n",
            "000,000,000,173,411 | One Hundred and Seventy Three Thousand Four Hundred and Eleven \n",
            "000,000,000,008,689 | Eight Thousand Six Hundred and Eighty Nine \n",
            "000,000,000,900,227 | Nine Hundred Thousand Two Hundred and Twenty Seven \n",
            "000,000,001,606,055 | One Million Six Hundred and Six Thousand Fifty Five \n"
          ]
        }
      ]
    }
  ]
}