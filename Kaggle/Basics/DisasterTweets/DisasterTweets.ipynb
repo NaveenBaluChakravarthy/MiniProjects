{
  "nbformat": 4,
  "nbformat_minor": 0,
  "metadata": {
    "accelerator": "GPU",
    "colab": {
      "name": "Disaster.ipynb",
      "provenance": [],
      "collapsed_sections": []
    },
    "kernelspec": {
      "display_name": "Python 3",
      "name": "python3"
    }
  },
  "cells": [
    {
      "cell_type": "code",
      "metadata": {
        "id": "Nq5iKorsh3lX"
      },
      "source": [
        "import re\r\n",
        "import os\r\n",
        "import nltk\r\n",
        "import random\r\n",
        "import numpy as np\r\n",
        "import pandas as pd\r\n",
        "import seaborn as sns\r\n",
        "import tensorflow as tf\r\n",
        "from google.colab import files\r\n",
        "import matplotlib.pyplot as plt\r\n",
        "from collections import Counter\r\n",
        "from nltk.corpus import stopwords"
      ],
      "execution_count": null,
      "outputs": []
    },
    {
      "cell_type": "code",
      "metadata": {
        "colab": {
          "base_uri": "https://localhost:8080/"
        },
        "id": "XIgNbzZBbqJA",
        "outputId": "71625d96-ea2d-4f0c-9304-309a817d5b64"
      },
      "source": [
        "os.environ['PYTHONHASHSEED'] = str(1)\r\n",
        "random.seed(1)\r\n",
        "np.random.seed(1)\r\n",
        "tf.random.set_seed(1)\r\n",
        "\r\n",
        "nltk.download('wordnet')\r\n",
        "nltk.download('stopwords')\r\n",
        "\r\n",
        "lemmatizer = nltk.stem.WordNetLemmatizer()\r\n",
        "stopwords_en = stopwords.words('english')\r\n",
        "stopwords_rf = []\r\n",
        "stopwords_ck = []\r\n",
        "\r\n",
        "C_Most_Limit = 25\r\n",
        "C_Least_Occurs = 10"
      ],
      "execution_count": null,
      "outputs": [
        {
          "output_type": "stream",
          "text": [
            "[nltk_data] Downloading package wordnet to /root/nltk_data...\n",
            "[nltk_data]   Unzipping corpora/wordnet.zip.\n",
            "[nltk_data] Downloading package stopwords to /root/nltk_data...\n",
            "[nltk_data]   Unzipping corpora/stopwords.zip.\n"
          ],
          "name": "stdout"
        }
      ]
    },
    {
      "cell_type": "code",
      "metadata": {
        "id": "TlPnmBNhbrhl"
      },
      "source": [
        "def get_word_counts(x = 20, y = 10):\r\n",
        "    allwordlist, freqwordlist, freqcountlist = [], [], []\r\n",
        "    for tweet in dataset_train['text']:\r\n",
        "        allwordlist.extend(tweet.split())\r\n",
        "    for tweet in dataset_test['text']:\r\n",
        "        allwordlist.extend(tweet.split())\r\n",
        "    total_words = len(allwordlist)\r\n",
        "    print(f\"Total number of words after generic preprocessing: {total_words}\")\r\n",
        "    wordcounts = Counter(allwordlist)\r\n",
        "    print(\"Most Common Words :\")\r\n",
        "    for key, value in wordcounts.most_common(x):\r\n",
        "      stopwords_ck.append(key)\r\n",
        "    print(stopwords_ck)\r\n",
        "    for key, value in wordcounts.most_common():\r\n",
        "      if value <= y:\r\n",
        "        stopwords_rf.append(key)\r\n",
        "\r\n",
        "def clean_string(x):\r\n",
        "    x = re.sub(r\"http\\S+\", ' ', x)                                                  # Remove hyperlinks\r\n",
        "    x = re.sub(r\"(?<=\\w)([A-Z])\", r\" \\1\", x)                                        # Split SentenceCased words (hashtags)\r\n",
        "    x = re.sub(r\"[^a-zA-Z]\", ' ', x)                                                # Remove numerical and special characters\r\n",
        "    x = re.sub(r\"\\s{1,}\", ' ', x)                                                   # Dedupe consecutive whitespaces\r\n",
        "    x = x.lower()                                                                   # Convert to lower case\r\n",
        "    x = [word for word in x.split() if word not in stopwords_en]                    # Stopword removal\r\n",
        "    x = [word for word in x if len(word) > 1]                                       # Remove single character words\r\n",
        "    x = ' '.join([lemmatizer.lemmatize(word, pos = 'v') for word in x])             # Normalization of text\r\n",
        "    if x == '':\r\n",
        "        x = 'good'\r\n",
        "    return x\r\n",
        "\r\n",
        "def remove_infrequent_words(x):\r\n",
        "    x = ' '.join([word for word in x.split() if word not in stopwords_rf])\r\n",
        "    return x\r\n",
        "\r\n",
        "def remove_common_words(x):\r\n",
        "    x = ' '.join([word for word in x.split() if word not in stopwords_ck])\r\n",
        "    return x\r\n",
        "\r\n",
        "def preprocess_generic():\r\n",
        "    dataset_train['text'] = dataset_train['text'].apply(clean_string)\r\n",
        "    dataset_test['text'] = dataset_test['text'].apply(clean_string)\r\n",
        "    get_word_counts(C_Most_Limit, C_Least_Occurs)\r\n",
        "    dataset_train['text'] = dataset_train['text'].apply(remove_infrequent_words)\r\n",
        "    dataset_test['text'] = dataset_test['text'].apply(remove_infrequent_words)    \r\n",
        "\r\n",
        "def preprocess_specific():\r\n",
        "    dataset_train['text'] = dataset_train['text'].apply(remove_common_words)\r\n",
        "    dataset_test['text'] = dataset_test['text'].apply(remove_common_words)    \r\n",
        "    return dataset_train['text'], dataset_train['target'], dataset_test['text']\r\n",
        "\r\n",
        "def get_dataset():\r\n",
        "    data_train = pd.read_csv(\"/content/drive/MyDrive/Kaggle/train.csv\")\r\n",
        "    data_test =  pd.read_csv(\"/content/drive/MyDrive/Kaggle/test.csv\")\r\n",
        "    prev_len = len(data_train)\r\n",
        "    data_train = data_train.drop_duplicates('text', keep='last')\r\n",
        "    print(f\"Found and removed #{prev_len - len(data_train)} duplicates from the Training dataset.\")\r\n",
        "    return data_train, data_test\r\n",
        "    \r\n",
        "def get_max_tweet_len():\r\n",
        "    tweetlen = []\r\n",
        "    for tweet in dataset_train['text']:\r\n",
        "        tweetlen.append(len(tweet.split()))\r\n",
        "    for tweet in dataset_test['text']:\r\n",
        "        tweetlen.append(len(tweet.split()))\r\n",
        "    return max(tweetlen)\r\n",
        "\r\n",
        "def build_sequences(X_train, X_test):\r\n",
        "    tokenizer = tf.keras.preprocessing.text.Tokenizer(num_words = 2**15, oov_token = '<OOV>')\r\n",
        "    tokenizer.fit_on_texts(X_train)\r\n",
        "    X_train = tokenizer.texts_to_sequences(X_train)\r\n",
        "    X_train = tf.keras.preprocessing.sequence.pad_sequences(X_train, maxlen = C_Tweet_Len, padding = 'post')\r\n",
        "    X_test = tokenizer.texts_to_sequences(X_test)\r\n",
        "    X_test = tf.keras.preprocessing.sequence.pad_sequences(X_test, maxlen = C_Tweet_Len, padding = 'post') \r\n",
        "    return X_train, X_test, len(tokenizer.word_counts) + 2\r\n",
        "\r\n",
        "def plot_generator():\r\n",
        "    metrics = ['Binary_Accuracy', 'Loss']\r\n",
        "    linetype = ['-', '--']\r\n",
        "    fig, axes = plt.subplots(1, 2, figsize = (20, 5))\r\n",
        "    epochs = range(len(history.history[metrics[0].lower()]))\r\n",
        "    for i in range(len(metrics)):\r\n",
        "        axes[i].plot(epochs, history.history[metrics[i].lower()], 'r'+ linetype[i], label = 'Training')\r\n",
        "        axes[i].plot(epochs, history.history['val_' + metrics[i].lower()], 'b' + linetype[i] , label = 'Validation')\r\n",
        "        axes[i].set_title(metrics[i])\r\n",
        "        axes[i].grid(True)\r\n",
        "        axes[i].legend()"
      ],
      "execution_count": null,
      "outputs": []
    },
    {
      "cell_type": "code",
      "metadata": {
        "colab": {
          "base_uri": "https://localhost:8080/"
        },
        "id": "9c8keo2RcJHO",
        "outputId": "5cec0111-3599-4890-9f4b-6500f7bd2880"
      },
      "source": [
        "dataset_train, dataset_test = get_dataset()\r\n",
        "preprocess_generic()\r\n",
        "print(\"Done\")"
      ],
      "execution_count": null,
      "outputs": [
        {
          "output_type": "stream",
          "text": [
            "Found and removed #110 duplicates from the Training dataset.\n",
            "Total number of words after generic preprocessing: 93872\n",
            "Most Common Words :\n",
            "['get', 'like', 'fire', 'amp', 'news', 'go', 'bomb', 'via', 'new', 'one', 'say', 'people', 'good', 'time', 'make', 'kill', 'attack', 'burn', 'crash', 'flood', 'build', 'emergency', 'take', 'see', 'come']\n",
            "Done\n"
          ],
          "name": "stdout"
        }
      ]
    },
    {
      "cell_type": "code",
      "metadata": {
        "id": "pfVifY-mGLgK"
      },
      "source": [
        "stopwords_ck = ['get', 'like', 'amp', 'news', 'go', 'via', 'new', 'one', 'say', 'people', 'time', 'make', 'build', 'take', 'see', 'come']\r\n",
        "X_train, y_train, X_test = preprocess_specific()\r\n",
        "C_Tweet_Len = get_max_tweet_len()\r\n",
        "X_train, X_test, C_Emb_Inp_Dim = build_sequences(X_train, X_test)"
      ],
      "execution_count": null,
      "outputs": []
    },
    {
      "cell_type": "code",
      "metadata": {
        "colab": {
          "base_uri": "https://localhost:8080/",
          "height": 1000
        },
        "id": "nrNJgl-3cNOA",
        "outputId": "72c177b9-ff95-4339-d899-24e1b53292fa"
      },
      "source": [
        "def lrscheduler(epoch, lr):\r\n",
        "#  print(f\"Using a learning rate of {lr}\")\r\n",
        "  if epoch % 2 == 1:\r\n",
        "    return lr * 0.2\r\n",
        "  else:\r\n",
        "    return lr\r\n",
        "\r\n",
        "def callback_def():\r\n",
        "    cb = [tf.keras.callbacks.EarlyStopping(monitor = 'val_loss', patience = 3, restore_best_weights = True),\r\n",
        "          tf.keras.callbacks.LearningRateScheduler(lrscheduler),\r\n",
        "          tf.keras.callbacks.TensorBoard(log_dir='/content/drive/MyDrive/Kaggle/logs')\r\n",
        "         ]\r\n",
        "    return cb\r\n",
        "\r\n",
        "def build_model():\r\n",
        "    tf.keras.backend.clear_session()\r\n",
        "    model = tf.keras.models.Sequential([\r\n",
        "        tf.keras.layers.Embedding(input_dim = C_Emb_Inp_Dim, output_dim = 1, input_length = C_Tweet_Len),\r\n",
        "        tf.keras.layers.SpatialDropout1D(0.1),\r\n",
        "        tf.keras.layers.Bidirectional(tf.keras.layers.LSTM(1024, return_sequences=True)),\r\n",
        "        tf.keras.layers.Conv1D(32, 4),\r\n",
        "        tf.keras.layers.GlobalMaxPool1D(),\r\n",
        "        tf.keras.layers.Dense(64, activation = 'relu'),\r\n",
        "        tf.keras.layers.Dense(1, activation = 'sigmoid')\r\n",
        "    ])\r\n",
        "    model.compile(loss = tf.keras.losses.BinaryCrossentropy(from_logits=True), \r\n",
        "                  optimizer = tf.keras.optimizers.Adam(learning_rate = 0.001), \r\n",
        "                  metrics=tf.keras.metrics.BinaryAccuracy()\r\n",
        "                  )\r\n",
        "    return model\r\n",
        "clf = build_model()\r\n",
        "history = clf.fit(X_train, y_train, validation_split = 0.1, epochs = 100, verbose = 1, callbacks = callback_def())\r\n",
        "plot_generator()"
      ],
      "execution_count": null,
      "outputs": [
        {
          "output_type": "stream",
          "text": [
            "Epoch 1/100\n",
            "211/211 [==============================] - 7s 23ms/step - loss: 0.6734 - binary_accuracy: 0.5929 - val_loss: 0.5145 - val_binary_accuracy: 0.7550\n",
            "Epoch 2/100\n",
            "211/211 [==============================] - 4s 19ms/step - loss: 0.4703 - binary_accuracy: 0.7766 - val_loss: 0.5019 - val_binary_accuracy: 0.7617\n",
            "Epoch 3/100\n",
            "211/211 [==============================] - 4s 19ms/step - loss: 0.4595 - binary_accuracy: 0.7851 - val_loss: 0.4755 - val_binary_accuracy: 0.7710\n",
            "Epoch 4/100\n",
            "211/211 [==============================] - 4s 19ms/step - loss: 0.4294 - binary_accuracy: 0.7950 - val_loss: 0.4713 - val_binary_accuracy: 0.7683\n",
            "Epoch 5/100\n",
            "211/211 [==============================] - 4s 19ms/step - loss: 0.4318 - binary_accuracy: 0.8008 - val_loss: 0.4663 - val_binary_accuracy: 0.7696\n",
            "Epoch 6/100\n",
            "211/211 [==============================] - 4s 18ms/step - loss: 0.4292 - binary_accuracy: 0.7990 - val_loss: 0.4655 - val_binary_accuracy: 0.7723\n",
            "Epoch 7/100\n",
            "211/211 [==============================] - 4s 18ms/step - loss: 0.4260 - binary_accuracy: 0.8062 - val_loss: 0.4658 - val_binary_accuracy: 0.7723\n",
            "Epoch 8/100\n",
            "211/211 [==============================] - 4s 18ms/step - loss: 0.4311 - binary_accuracy: 0.8025 - val_loss: 0.4654 - val_binary_accuracy: 0.7736\n",
            "Epoch 9/100\n",
            "211/211 [==============================] - 4s 18ms/step - loss: 0.4135 - binary_accuracy: 0.8121 - val_loss: 0.4653 - val_binary_accuracy: 0.7710\n",
            "Epoch 10/100\n",
            "211/211 [==============================] - 4s 18ms/step - loss: 0.4277 - binary_accuracy: 0.8026 - val_loss: 0.4653 - val_binary_accuracy: 0.7710\n",
            "Epoch 11/100\n",
            "211/211 [==============================] - 4s 18ms/step - loss: 0.4433 - binary_accuracy: 0.7944 - val_loss: 0.4653 - val_binary_accuracy: 0.7710\n",
            "Epoch 12/100\n",
            "211/211 [==============================] - 4s 18ms/step - loss: 0.4262 - binary_accuracy: 0.8041 - val_loss: 0.4653 - val_binary_accuracy: 0.7710\n",
            "Epoch 13/100\n",
            "211/211 [==============================] - 4s 18ms/step - loss: 0.4381 - binary_accuracy: 0.7942 - val_loss: 0.4653 - val_binary_accuracy: 0.7710\n",
            "Epoch 14/100\n",
            "211/211 [==============================] - 4s 18ms/step - loss: 0.4305 - binary_accuracy: 0.8061 - val_loss: 0.4653 - val_binary_accuracy: 0.7710\n",
            "Epoch 15/100\n",
            "211/211 [==============================] - 4s 18ms/step - loss: 0.4274 - binary_accuracy: 0.8036 - val_loss: 0.4653 - val_binary_accuracy: 0.7710\n",
            "Epoch 16/100\n",
            "211/211 [==============================] - 4s 18ms/step - loss: 0.4087 - binary_accuracy: 0.8120 - val_loss: 0.4653 - val_binary_accuracy: 0.7710\n",
            "Epoch 17/100\n",
            "211/211 [==============================] - 4s 18ms/step - loss: 0.4374 - binary_accuracy: 0.7939 - val_loss: 0.4653 - val_binary_accuracy: 0.7710\n",
            "Epoch 18/100\n",
            "211/211 [==============================] - 4s 18ms/step - loss: 0.4117 - binary_accuracy: 0.8129 - val_loss: 0.4653 - val_binary_accuracy: 0.7710\n",
            "Epoch 19/100\n",
            "211/211 [==============================] - 4s 18ms/step - loss: 0.4241 - binary_accuracy: 0.8019 - val_loss: 0.4653 - val_binary_accuracy: 0.7710\n",
            "Epoch 20/100\n",
            "211/211 [==============================] - 4s 18ms/step - loss: 0.4358 - binary_accuracy: 0.7962 - val_loss: 0.4653 - val_binary_accuracy: 0.7710\n",
            "Epoch 21/100\n",
            "211/211 [==============================] - 4s 18ms/step - loss: 0.4156 - binary_accuracy: 0.8083 - val_loss: 0.4653 - val_binary_accuracy: 0.7710\n"
          ],
          "name": "stdout"
        },
        {
          "output_type": "display_data",
          "data": {
            "image/png": "[encoded data removed]",
            "text/plain": [
              "<Figure size 1440x360 with 2 Axes>"
            ]
          },
          "metadata": {
            "tags": [],
            "needs_background": "light"
          }
        }
      ]
    },
    {
      "cell_type": "code",
      "metadata": {
        "id": "LGdCOP32eqrR"
      },
      "source": [
        "threshold = 0.3\r\n",
        "y_pred = [ele for [ele] in clf.predict(X_test)]\r\n",
        "y_pred = [1 if ele > threshold else 0 for ele in y_pred]\r\n",
        "subs = pd.DataFrame({\"id\": dataset_test.id, 'target':y_pred})\r\n",
        "subs.to_csv('/content/drive/MyDrive/Kaggle/submission.csv', index=False)"
      ],
      "execution_count": null,
      "outputs": []
    },
    {
      "cell_type": "code",
      "metadata": {
        "colab": {
          "base_uri": "https://localhost:8080/"
        },
        "id": "CGoQZ42HqNQX",
        "outputId": "0f58e7ee-102e-4941-803e-1d3ac820625f"
      },
      "source": [
        "print(subs)"
      ],
      "execution_count": null,
      "outputs": [
        {
          "output_type": "stream",
          "text": [
            "         id  target\n",
            "0         0       1\n",
            "1         2       1\n",
            "2         3       1\n",
            "3         9       1\n",
            "4        11       1\n",
            "...     ...     ...\n",
            "3258  10861       0\n",
            "3259  10865       1\n",
            "3260  10868       1\n",
            "3261  10874       1\n",
            "3262  10875       1\n",
            "\n",
            "[3263 rows x 2 columns]\n"
          ],
          "name": "stdout"
        }
      ]
    }
  ]
}